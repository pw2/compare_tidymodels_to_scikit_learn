{
 "cells": [
  {
   "cell_type": "markdown",
   "id": "ac46ac0b",
   "metadata": {},
   "source": [
    "### Load Packages & Data"
   ]
  },
  {
   "cell_type": "code",
   "execution_count": null,
   "id": "3eff21ce",
   "metadata": {},
   "outputs": [],
   "source": [
    "import pandas as pd\n",
    "import matplotlib.pyplot as plt\n",
    "import seaborn as sns\n",
    "import numpy as np"
   ]
  },
  {
   "cell_type": "code",
   "execution_count": null,
   "id": "635c0a74",
   "metadata": {},
   "outputs": [],
   "source": [
    "dat = pd.read_csv('https://raw.githubusercontent.com/rfordatascience/tidytuesday/master/data/2023/2023-04-04/soccer21-22.csv')\n",
    "\n",
    "dat.head(5)"
   ]
  },
  {
   "cell_type": "markdown",
   "id": "6866c8b9",
   "metadata": {},
   "source": [
    "### EDA"
   ]
  },
  {
   "cell_type": "code",
   "execution_count": null,
   "id": "cf863ee2",
   "metadata": {},
   "outputs": [],
   "source": [
    "## Check Columns for NAs\n",
    "len(dat) - dat.count()"
   ]
  },
  {
   "cell_type": "code",
   "execution_count": null,
   "id": "3f465989",
   "metadata": {},
   "outputs": [],
   "source": [
    "## Plot the count of Full Time Results (FTR)\n",
    "sns.countplot(x = 'FTR', data = dat)"
   ]
  },
  {
   "cell_type": "code",
   "execution_count": null,
   "id": "fe05d982",
   "metadata": {},
   "outputs": [],
   "source": [
    "dat['FTR'].value_counts()"
   ]
  },
  {
   "cell_type": "markdown",
   "id": "0637ba4b",
   "metadata": {},
   "source": [
    "### Get Key Model Features and Create a Plot"
   ]
  },
  {
   "cell_type": "code",
   "execution_count": null,
   "id": "d10feb7b",
   "metadata": {},
   "outputs": [],
   "source": [
    "dat.columns"
   ]
  },
  {
   "cell_type": "code",
   "execution_count": null,
   "id": "5f5118cb",
   "metadata": {},
   "outputs": [],
   "source": [
    "dat_model = dat[['FTR', 'HTHG', 'HTAG', 'HS', 'AS', 'HST', 'AST', 'HF', 'AF', 'HC', 'AC',\n",
    "       'HY', 'AY', 'HR', 'AR']]\n",
    "\n",
    "dat_model.head()"
   ]
  },
  {
   "cell_type": "code",
   "execution_count": null,
   "id": "a7b7a6e6",
   "metadata": {},
   "outputs": [],
   "source": [
    "dat_model.columns"
   ]
  },
  {
   "cell_type": "code",
   "execution_count": null,
   "id": "35751308",
   "metadata": {},
   "outputs": [],
   "source": [
    "dat_model_long = pd.melt(dat_model, \n",
    "        id_vars = 'FTR',\n",
    "        value_vars = ['HTHG', 'HTAG', 'HS', 'AS', 'HST', 'AST', 'HF', 'AF', 'HC', 'AC',\n",
    "       'HY', 'AY', 'HR', 'AR'])\n",
    "\n",
    "dat_model_long.head()"
   ]
  },
  {
   "cell_type": "code",
   "execution_count": null,
   "id": "7debbce2",
   "metadata": {},
   "outputs": [],
   "source": [
    "sns.boxplot(x = 'FTR',\n",
    "           y = 'value',\n",
    "           data = dat_model_long)"
   ]
  },
  {
   "cell_type": "code",
   "execution_count": null,
   "id": "87420d2b",
   "metadata": {},
   "outputs": [],
   "source": [
    "f = sns.FacetGrid(dat_model_long, col = \"variable\", col_wrap = 4, sharey = False, sharex = False)\n",
    "f.map(sns.boxplot, 'FTR', 'value')\n",
    "f.add_legend()"
   ]
  },
  {
   "cell_type": "markdown",
   "id": "8987d6dc",
   "metadata": {},
   "source": [
    "### Train/Test Split"
   ]
  },
  {
   "cell_type": "code",
   "execution_count": null,
   "id": "057b336a",
   "metadata": {},
   "outputs": [],
   "source": [
    "from sklearn.model_selection import train_test_split"
   ]
  },
  {
   "cell_type": "code",
   "execution_count": null,
   "id": "dcf1ed7e",
   "metadata": {},
   "outputs": [],
   "source": [
    "features = dat_model.drop('FTR', axis=1)\n",
    "outcome = dat_model['FTR']\n",
    "\n",
    "X_train, X_test, y_train, y_test = train_test_split(\n",
    "    features,\n",
    "    outcome, \n",
    "    test_size=0.25,\n",
    "    stratify=outcome\n",
    ")"
   ]
  },
  {
   "cell_type": "code",
   "execution_count": null,
   "id": "ee15f620",
   "metadata": {},
   "outputs": [],
   "source": [
    "X_train.head()"
   ]
  },
  {
   "cell_type": "code",
   "execution_count": null,
   "id": "9f3ef63a",
   "metadata": {},
   "outputs": [],
   "source": [
    "y_train.value_counts() / len(y_train)"
   ]
  },
  {
   "cell_type": "code",
   "execution_count": null,
   "id": "964a162b",
   "metadata": {},
   "outputs": [],
   "source": [
    "y_test.value_counts() / len(y_test)"
   ]
  },
  {
   "cell_type": "markdown",
   "id": "fb81204e",
   "metadata": {},
   "source": [
    "### Set Up Random Forest Classifier"
   ]
  },
  {
   "cell_type": "code",
   "execution_count": null,
   "id": "d71168b5",
   "metadata": {},
   "outputs": [],
   "source": [
    "from sklearn.ensemble import RandomForestClassifier"
   ]
  },
  {
   "cell_type": "code",
   "execution_count": null,
   "id": "ba403937",
   "metadata": {},
   "outputs": [],
   "source": [
    "rf_model = RandomForestClassifier()"
   ]
  },
  {
   "cell_type": "markdown",
   "id": "a6b62d98",
   "metadata": {},
   "source": [
    "### Perform Hyperparameter Tuning on Cross Validation Folds"
   ]
  },
  {
   "cell_type": "code",
   "execution_count": null,
   "id": "57c571dc",
   "metadata": {},
   "outputs": [],
   "source": [
    "from sklearn.model_selection import GridSearchCV\n",
    "from sklearn.model_selection import RepeatedStratifiedKFold"
   ]
  },
  {
   "cell_type": "code",
   "execution_count": null,
   "id": "f6f02f00",
   "metadata": {},
   "outputs": [],
   "source": [
    "# Dictionary of the parameter grid to explore\n",
    "forest_params = [{'max_features': list(np.linspace(start = 1, stop = 14, num = 5).astype(int)),\n",
    "                 'n_estimators': list(np.linspace(start = 400, stop = 900, num = 5).astype(int))}]"
   ]
  },
  {
   "cell_type": "code",
   "execution_count": null,
   "id": "78f2779f",
   "metadata": {},
   "outputs": [],
   "source": [
    "# create cross validated structure\n",
    "cv_structure = RepeatedStratifiedKFold(n_splits = 5, n_repeats = 1, random_state=30)\n",
    "\n",
    "# Set up grid search using accuracy are the performance metric\n",
    "rf_cv = GridSearchCV(estimator = rf_model,\n",
    "                     param_grid = forest_params,\n",
    "                     scoring = 'roc_auc_ovr',\n",
    "                     n_jobs = -1,\n",
    "                     cv = cv_structure,\n",
    "                     verbose = 2)"
   ]
  },
  {
   "cell_type": "markdown",
   "id": "38abf6e3",
   "metadata": {},
   "source": [
    "### Train the model using Cross Validation"
   ]
  },
  {
   "cell_type": "code",
   "execution_count": null,
   "id": "08ea2df8",
   "metadata": {},
   "outputs": [],
   "source": [
    "rf_cv.fit(X = X_train, y = y_train)"
   ]
  },
  {
   "cell_type": "markdown",
   "id": "564df498",
   "metadata": {},
   "source": [
    "### Best Parameters"
   ]
  },
  {
   "cell_type": "code",
   "execution_count": null,
   "id": "5ab2eaf5",
   "metadata": {},
   "outputs": [],
   "source": [
    "# parameters\n",
    "rf_cv.best_params_"
   ]
  },
  {
   "cell_type": "code",
   "execution_count": null,
   "id": "5cbf885d",
   "metadata": {},
   "outputs": [],
   "source": [
    "# best model\n",
    "rf_cv.best_estimator_ "
   ]
  },
  {
   "cell_type": "code",
   "execution_count": null,
   "id": "79c94a7d",
   "metadata": {},
   "outputs": [],
   "source": [
    "# Cross Validated Scoring\n",
    "rf_cv.cv_results_"
   ]
  },
  {
   "cell_type": "code",
   "execution_count": null,
   "id": "ed4fe673",
   "metadata": {},
   "outputs": [],
   "source": [
    "# store the best parameters\n",
    "mtry = rf_cv.best_params_['n_estimators']\n",
    "n_features = rf_cv.best_params_['max_features']"
   ]
  },
  {
   "cell_type": "code",
   "execution_count": null,
   "id": "4a86a015",
   "metadata": {},
   "outputs": [],
   "source": [
    "mtry, n_features"
   ]
  },
  {
   "cell_type": "markdown",
   "id": "906ad152",
   "metadata": {},
   "source": [
    "### Refit the model using the optimal hyperparameters"
   ]
  },
  {
   "cell_type": "code",
   "execution_count": null,
   "id": "c0ff70bb",
   "metadata": {},
   "outputs": [],
   "source": [
    "rfc_optimized = RandomForestClassifier(n_estimators = mtry, max_features = n_features)\n",
    "rfc_optimized.fit(X = X_train, y = y_train)"
   ]
  },
  {
   "cell_type": "code",
   "execution_count": null,
   "id": "ea1cbf1f",
   "metadata": {},
   "outputs": [],
   "source": [
    "rfc_optimized"
   ]
  },
  {
   "cell_type": "markdown",
   "id": "adc6f297",
   "metadata": {},
   "source": [
    "### Variable of Importance Plot"
   ]
  },
  {
   "cell_type": "markdown",
   "id": "1b36089c-b1e4-4a88-bc5b-d8be40b838b0",
   "metadata": {},
   "source": [
    "#### dotchained version"
   ]
  },
  {
   "cell_type": "code",
   "execution_count": null,
   "id": "7cedfedf-d2f2-4bcb-af63-1ca4abe29bdf",
   "metadata": {},
   "outputs": [],
   "source": [
    "(\n",
    "    pd.Series(\n",
    "        rfc_optimized.feature_importances_,\n",
    "        index=rfc_optimized.feature_names_in_\n",
    "    )\n",
    "    .sort_values(ascending=False)\n",
    "    .plot(kind='bar', title='Feature Importance')\n",
    ")"
   ]
  },
  {
   "cell_type": "markdown",
   "id": "e82716a7-886a-4887-b852-59166c71a712",
   "metadata": {},
   "source": [
    "#### original version:"
   ]
  },
  {
   "cell_type": "code",
   "execution_count": null,
   "id": "78301457",
   "metadata": {},
   "outputs": [],
   "source": [
    "import matplotlib.pyplot as plt"
   ]
  },
  {
   "cell_type": "code",
   "execution_count": null,
   "id": "965c6b43",
   "metadata": {},
   "outputs": [],
   "source": [
    "importances = rfc_optimized.feature_importances_\n",
    "importances"
   ]
  },
  {
   "cell_type": "code",
   "execution_count": null,
   "id": "df52b713",
   "metadata": {},
   "outputs": [],
   "source": [
    "## sort the importances in descending order\n",
    "indices = np.argsort(importances)[::-1]\n",
    "indices"
   ]
  },
  {
   "cell_type": "code",
   "execution_count": null,
   "id": "9d4d7aee",
   "metadata": {},
   "outputs": [],
   "source": [
    "## Rearrange feature names so that they match the sorted feature importances\n",
    "names = [X_test.columns[i] for i in indices]\n",
    "names"
   ]
  },
  {
   "cell_type": "code",
   "execution_count": null,
   "id": "96c05053",
   "metadata": {},
   "outputs": [],
   "source": [
    "# plot title\n",
    "plt.title(\"Feature Importance\")\n",
    "\n",
    "# barplot\n",
    "plt.bar(range(X_test.shape[1]), importances[indices])\n",
    "\n",
    "# feature names for x-axis\n",
    "plt.xticks(range(X_test.shape[1]), names, rotation = 90)"
   ]
  },
  {
   "cell_type": "markdown",
   "id": "2e8dcd3f",
   "metadata": {},
   "source": [
    "### Get Predictions on Test Set"
   ]
  },
  {
   "cell_type": "code",
   "execution_count": null,
   "id": "69e0c310",
   "metadata": {},
   "outputs": [],
   "source": [
    "from sklearn.metrics import classification_report, confusion_matrix"
   ]
  },
  {
   "cell_type": "code",
   "execution_count": null,
   "id": "ce3aad25",
   "metadata": {},
   "outputs": [],
   "source": [
    "rfc_test_pred = rfc_optimized.predict(X_test)"
   ]
  },
  {
   "cell_type": "code",
   "execution_count": null,
   "id": "9aa1d350",
   "metadata": {},
   "outputs": [],
   "source": [
    "confusion_matrix(y_test, rfc_test_pred)"
   ]
  },
  {
   "cell_type": "code",
   "execution_count": null,
   "id": "18378834",
   "metadata": {},
   "outputs": [],
   "source": [
    "print(classification_report(y_test, rfc_test_pred))"
   ]
  },
  {
   "cell_type": "markdown",
   "id": "b1ed511a",
   "metadata": {},
   "source": [
    "### Save the model"
   ]
  },
  {
   "cell_type": "code",
   "execution_count": null,
   "id": "13dbe8b5",
   "metadata": {},
   "outputs": [],
   "source": [
    "from pickle import dump"
   ]
  },
  {
   "cell_type": "code",
   "execution_count": null,
   "id": "e88c55f1",
   "metadata": {},
   "outputs": [],
   "source": [
    "dump(rfc_optimized, open('rfc_optimized.pkl', 'wb'))"
   ]
  },
  {
   "cell_type": "markdown",
   "id": "f9ce2c21",
   "metadata": {},
   "source": [
    "### Load the model"
   ]
  },
  {
   "cell_type": "code",
   "execution_count": null,
   "id": "9b63f686",
   "metadata": {},
   "outputs": [],
   "source": [
    "from pickle import load"
   ]
  },
  {
   "cell_type": "code",
   "execution_count": null,
   "id": "7bf140d4",
   "metadata": {},
   "outputs": [],
   "source": [
    "model = load(open('rfc_optimized.pkl', 'rb'))"
   ]
  },
  {
   "cell_type": "code",
   "execution_count": null,
   "id": "83a7ae41",
   "metadata": {},
   "outputs": [],
   "source": [
    "model"
   ]
  },
  {
   "cell_type": "code",
   "execution_count": null,
   "id": "8ac34b62",
   "metadata": {},
   "outputs": [],
   "source": [
    "# get a new observations\n",
    "new_dat = dat_model.loc[[180, 242]]\n",
    "new_dat"
   ]
  },
  {
   "cell_type": "code",
   "execution_count": null,
   "id": "a8d6a27e",
   "metadata": {},
   "outputs": [],
   "source": [
    "## Get the features by themselves to make predictions\n",
    "new_feats = new_dat.drop('FTR', axis = 1)\n",
    "new_feats"
   ]
  },
  {
   "cell_type": "code",
   "execution_count": null,
   "id": "154ea63e",
   "metadata": {},
   "outputs": [],
   "source": [
    "## Add predictions to the new data\n",
    "new_dat['pred_ftr'] = model.predict(new_feats)\n",
    "new_dat"
   ]
  }
 ],
 "metadata": {
  "kernelspec": {
   "display_name": "Python 3 (ipykernel)",
   "language": "python",
   "name": "python3"
  },
  "language_info": {
   "codemirror_mode": {
    "name": "ipython",
    "version": 3
   },
   "file_extension": ".py",
   "mimetype": "text/x-python",
   "name": "python",
   "nbconvert_exporter": "python",
   "pygments_lexer": "ipython3",
   "version": "3.10.12"
  }
 },
 "nbformat": 4,
 "nbformat_minor": 5
}
